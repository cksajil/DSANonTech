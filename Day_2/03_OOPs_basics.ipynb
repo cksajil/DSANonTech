{
  "nbformat": 4,
  "nbformat_minor": 0,
  "metadata": {
    "colab": {
      "provenance": []
    },
    "kernelspec": {
      "name": "python3",
      "display_name": "Python 3"
    },
    "language_info": {
      "name": "python"
    }
  },
  "cells": [
    {
      "cell_type": "markdown",
      "source": [
        "# Basic class definition"
      ],
      "metadata": {
        "id": "rAcpyMn__ckV"
      }
    },
    {
      "cell_type": "markdown",
      "source": [
        "## Class attributes"
      ],
      "metadata": {
        "id": "Vza49EWWAINR"
      }
    },
    {
      "cell_type": "code",
      "source": [
        "class Dog:\n",
        "    def __init__(self, name, age):\n",
        "        self.name = name\n",
        "        self.age = age"
      ],
      "metadata": {
        "id": "H_QcG38o_e92"
      },
      "execution_count": null,
      "outputs": []
    },
    {
      "cell_type": "code",
      "source": [
        "my_pet = Dog(\"Bob\", 5)"
      ],
      "metadata": {
        "id": "nYoJiG3F_jWm"
      },
      "execution_count": null,
      "outputs": []
    },
    {
      "cell_type": "code",
      "source": [
        "print(my_pet.name)\n",
        "print(my_pet.age)"
      ],
      "metadata": {
        "colab": {
          "base_uri": "https://localhost:8080/"
        },
        "id": "rAYh5gVP_o4C",
        "outputId": "8ccc6a18-aee5-4f6b-c995-01e711577873"
      },
      "execution_count": null,
      "outputs": [
        {
          "output_type": "stream",
          "name": "stdout",
          "text": [
            "Bob\n",
            "5\n"
          ]
        }
      ]
    },
    {
      "cell_type": "code",
      "source": [
        "my_pet2 = Dog(\"Tuftee\", 2)"
      ],
      "metadata": {
        "id": "-1DFb3lK_qsE"
      },
      "execution_count": null,
      "outputs": []
    },
    {
      "cell_type": "code",
      "source": [
        "print(my_pet2.name)\n",
        "print(my_pet2.age)"
      ],
      "metadata": {
        "colab": {
          "base_uri": "https://localhost:8080/"
        },
        "id": "OoA-3j87_53v",
        "outputId": "7a82cbc9-8ee6-43c4-8c77-efea64394034"
      },
      "execution_count": null,
      "outputs": [
        {
          "output_type": "stream",
          "name": "stdout",
          "text": [
            "Tuftee\n",
            "2\n"
          ]
        }
      ]
    },
    {
      "cell_type": "markdown",
      "source": [
        "## Class functions"
      ],
      "metadata": {
        "id": "u4s8mXPbALaz"
      }
    },
    {
      "cell_type": "code",
      "source": [
        "class Dog:\n",
        "    def __init__(self, name, age, sound):\n",
        "        self.name = name\n",
        "        self.age = age\n",
        "        self.sound = sound\n",
        "    def say(self):\n",
        "        print(self.sound)"
      ],
      "metadata": {
        "id": "e6mcM1Yn_8yU"
      },
      "execution_count": null,
      "outputs": []
    },
    {
      "cell_type": "code",
      "source": [
        "my_pet = Dog(\"Bob\", 5, \"Woof!\")"
      ],
      "metadata": {
        "id": "dcoMXZLWAaPs"
      },
      "execution_count": null,
      "outputs": []
    },
    {
      "cell_type": "code",
      "source": [
        "my_pet.say()"
      ],
      "metadata": {
        "colab": {
          "base_uri": "https://localhost:8080/"
        },
        "id": "XzV8uuUZAeFB",
        "outputId": "b978c440-7fa3-4cb6-e024-45b6e93e80e6"
      },
      "execution_count": null,
      "outputs": [
        {
          "output_type": "stream",
          "name": "stdout",
          "text": [
            "Woof!\n"
          ]
        }
      ]
    },
    {
      "cell_type": "code",
      "source": [
        "my_pet2 = Dog(\"Tuftee\", 2, \"Woof!, Woof!\")"
      ],
      "metadata": {
        "id": "OSUjUeAnAgEF"
      },
      "execution_count": null,
      "outputs": []
    },
    {
      "cell_type": "code",
      "source": [
        "my_pet2.say()"
      ],
      "metadata": {
        "colab": {
          "base_uri": "https://localhost:8080/"
        },
        "id": "claWt37RAuuV",
        "outputId": "e76aed36-bad6-4c53-a4ba-881c5fd63618"
      },
      "execution_count": null,
      "outputs": [
        {
          "output_type": "stream",
          "name": "stdout",
          "text": [
            "Woof!, Woof!\n"
          ]
        }
      ]
    },
    {
      "cell_type": "markdown",
      "source": [
        "## Inheritance"
      ],
      "metadata": {
        "id": "H5LEBrUmA97o"
      }
    },
    {
      "cell_type": "code",
      "source": [
        "class Animal:\n",
        "    def __init__(self, name, age, sound):\n",
        "        self.name = name\n",
        "        self.age = age\n",
        "        self.sound = sound\n",
        "\n",
        "    def make_sound(self):\n",
        "        print(self.sound)"
      ],
      "metadata": {
        "id": "L0TxVUWoAwLp"
      },
      "execution_count": null,
      "outputs": []
    },
    {
      "cell_type": "code",
      "source": [
        "class Dog(Animal):\n",
        "    def __init__(self, name, age):\n",
        "        super().__init__(name, age, \"Woof!\")\n",
        "\n",
        "    def action(self):\n",
        "        print(\"Moves tails\")\n",
        "\n",
        "\n",
        "class Cat(Animal):\n",
        "    def __init__(self, name, age):\n",
        "        super().__init__(name, age, \"Meow!\")\n",
        "\n",
        "    def action(self):\n",
        "        print(\"Moves ears\")"
      ],
      "metadata": {
        "id": "xX3FaRzMBQI6"
      },
      "execution_count": null,
      "outputs": []
    },
    {
      "cell_type": "code",
      "source": [
        "my_dog = Dog(\"Buddy\", 3)"
      ],
      "metadata": {
        "id": "QbRxn-6EB0P_"
      },
      "execution_count": null,
      "outputs": []
    },
    {
      "cell_type": "code",
      "source": [
        "my_dog.make_sound()"
      ],
      "metadata": {
        "colab": {
          "base_uri": "https://localhost:8080/"
        },
        "id": "08iXiTkQCo5_",
        "outputId": "f5d8b027-04f9-4ccd-9ab2-07547543c8bf"
      },
      "execution_count": null,
      "outputs": [
        {
          "output_type": "stream",
          "name": "stdout",
          "text": [
            "Woof!\n"
          ]
        }
      ]
    },
    {
      "cell_type": "code",
      "source": [
        "my_dog.action()"
      ],
      "metadata": {
        "colab": {
          "base_uri": "https://localhost:8080/"
        },
        "id": "eDFX9KcyCqI9",
        "outputId": "fb8d98b9-67fd-4e53-8437-d06398f86e7e"
      },
      "execution_count": null,
      "outputs": [
        {
          "output_type": "stream",
          "name": "stdout",
          "text": [
            "Moves tails\n"
          ]
        }
      ]
    },
    {
      "cell_type": "code",
      "source": [
        "my_cat = Cat(\"Whiskers\", 2)"
      ],
      "metadata": {
        "id": "onmg9RdmB2S4"
      },
      "execution_count": null,
      "outputs": []
    },
    {
      "cell_type": "code",
      "source": [
        "my_cat.make_sound()"
      ],
      "metadata": {
        "colab": {
          "base_uri": "https://localhost:8080/"
        },
        "id": "lf-Zey2VB3Ky",
        "outputId": "72422b82-adff-441c-c3cb-04167adc5c6f"
      },
      "execution_count": null,
      "outputs": [
        {
          "output_type": "stream",
          "name": "stdout",
          "text": [
            "Meow!\n"
          ]
        }
      ]
    },
    {
      "cell_type": "code",
      "source": [
        "my_cat.action()"
      ],
      "metadata": {
        "colab": {
          "base_uri": "https://localhost:8080/"
        },
        "id": "cSTouFFhCu91",
        "outputId": "56ed1026-f923-46db-fbbb-facbdca2eeb0"
      },
      "execution_count": null,
      "outputs": [
        {
          "output_type": "stream",
          "name": "stdout",
          "text": [
            "Moves ears\n"
          ]
        }
      ]
    },
    {
      "cell_type": "markdown",
      "source": [
        "## Abstract class"
      ],
      "metadata": {
        "id": "GqqMZLNWDcQy"
      }
    },
    {
      "cell_type": "code",
      "source": [
        "from abc import ABC, abstractmethod\n",
        "\n",
        "class Dog(ABC):  # Abstract Class\n",
        "    def __init__(self, name):\n",
        "        self.name = name\n",
        "\n",
        "    @abstractmethod\n",
        "    def sound(self):  # Abstract Method\n",
        "        pass\n",
        "\n",
        "    def display_name(self):  # Concrete Method\n",
        "        print(f\"Dog's Name: {self.name}\")\n",
        "\n",
        "class Labrador(Dog):\n",
        "    def sound(self):\n",
        "        print(\"Labrador Woof!\")\n",
        "\n",
        "class Beagle(Dog):\n",
        "    def sound(self):\n",
        "        print(\"Beagle Bark!\")"
      ],
      "metadata": {
        "id": "f8YfqN__C68c"
      },
      "execution_count": null,
      "outputs": []
    },
    {
      "cell_type": "code",
      "source": [
        "dog1 = Labrador(\"Buddy\")\n",
        "dog2 =  Beagle(\"Charlie\")"
      ],
      "metadata": {
        "id": "kPofu5a9Di5R"
      },
      "execution_count": null,
      "outputs": []
    },
    {
      "cell_type": "code",
      "source": [
        "dog1.display_name()  # Calls concrete method\n",
        "dog1.sound()  # Calls implemented abstract method"
      ],
      "metadata": {
        "colab": {
          "base_uri": "https://localhost:8080/"
        },
        "id": "mB-R4nOUDufk",
        "outputId": "2160f41e-c355-4756-d93b-9194ef0ad608"
      },
      "execution_count": null,
      "outputs": [
        {
          "output_type": "stream",
          "name": "stdout",
          "text": [
            "Dog's Name: Buddy\n",
            "Labrador Woof!\n"
          ]
        }
      ]
    },
    {
      "cell_type": "code",
      "source": [
        "dog2.display_name()\n",
        "dog2.sound()"
      ],
      "metadata": {
        "colab": {
          "base_uri": "https://localhost:8080/"
        },
        "id": "9bHfrLKcDyT8",
        "outputId": "da6145de-cfca-4f39-bb0c-7e18b0018f5d"
      },
      "execution_count": null,
      "outputs": [
        {
          "output_type": "stream",
          "name": "stdout",
          "text": [
            "Dog's Name: Charlie\n",
            "Beagle Bark!\n"
          ]
        }
      ]
    },
    {
      "cell_type": "code",
      "source": [],
      "metadata": {
        "id": "4bN_bi5CD7p2"
      },
      "execution_count": null,
      "outputs": []
    }
  ]
}