{
  "nbformat": 4,
  "nbformat_minor": 0,
  "metadata": {
    "colab": {
      "provenance": []
    },
    "kernelspec": {
      "name": "python3",
      "display_name": "Python 3"
    },
    "language_info": {
      "name": "python"
    }
  },
  "cells": [
    {
      "cell_type": "markdown",
      "source": [
        "# Introduction"
      ],
      "metadata": {
        "id": "7rWTZYLRS606"
      }
    },
    {
      "cell_type": "markdown",
      "source": [
        "## Day 1"
      ],
      "metadata": {
        "id": "uJQYu-k_WzjP"
      }
    },
    {
      "cell_type": "code",
      "execution_count": null,
      "metadata": {
        "colab": {
          "base_uri": "https://localhost:8080/"
        },
        "id": "eWc0IxeAPNM3",
        "outputId": "e0e3e698-786c-4a19-87fe-1ef18f704290"
      },
      "outputs": [
        {
          "output_type": "execute_result",
          "data": {
            "text/plain": [
              "0.5"
            ]
          },
          "metadata": {},
          "execution_count": 81
        }
      ],
      "source": [
        "5/(8+2)\n"
      ]
    },
    {
      "cell_type": "code",
      "source": [
        "11+3"
      ],
      "metadata": {
        "colab": {
          "base_uri": "https://localhost:8080/"
        },
        "id": "w7LG8jzeT0ME",
        "outputId": "51641268-c43c-4645-9076-20f117118361"
      },
      "execution_count": null,
      "outputs": [
        {
          "output_type": "execute_result",
          "data": {
            "text/plain": [
              "14"
            ]
          },
          "metadata": {},
          "execution_count": 82
        }
      ]
    },
    {
      "cell_type": "code",
      "source": [
        "'Hello'"
      ],
      "metadata": {
        "colab": {
          "base_uri": "https://localhost:8080/",
          "height": 35
        },
        "id": "hxGHpO2yU2Nh",
        "outputId": "bf9691fd-b797-44ad-be16-a3fc85cc309e"
      },
      "execution_count": null,
      "outputs": [
        {
          "output_type": "execute_result",
          "data": {
            "text/plain": [
              "'Hello'"
            ],
            "application/vnd.google.colaboratory.intrinsic+json": {
              "type": "string"
            }
          },
          "metadata": {},
          "execution_count": 83
        }
      ]
    },
    {
      "cell_type": "code",
      "source": [
        "\"AGCT\""
      ],
      "metadata": {
        "colab": {
          "base_uri": "https://localhost:8080/",
          "height": 35
        },
        "id": "Kir4G_b-Xa80",
        "outputId": "83f65565-dec6-4799-d8f4-3a43acd41cd4"
      },
      "execution_count": null,
      "outputs": [
        {
          "output_type": "execute_result",
          "data": {
            "text/plain": [
              "'AGCT'"
            ],
            "application/vnd.google.colaboratory.intrinsic+json": {
              "type": "string"
            }
          },
          "metadata": {},
          "execution_count": 84
        }
      ]
    },
    {
      "cell_type": "code",
      "source": [
        "print(2025)\n",
        "print(\"Welcome\")"
      ],
      "metadata": {
        "colab": {
          "base_uri": "https://localhost:8080/"
        },
        "id": "D_zcH2yuXhP1",
        "outputId": "50920576-4d69-4aee-aa8d-2f7d976f9029"
      },
      "execution_count": null,
      "outputs": [
        {
          "output_type": "stream",
          "name": "stdout",
          "text": [
            "2025\n",
            "Welcome\n"
          ]
        }
      ]
    },
    {
      "cell_type": "code",
      "source": [
        "print(\"Welcome 2025\")"
      ],
      "metadata": {
        "colab": {
          "base_uri": "https://localhost:8080/"
        },
        "id": "1ZUjS_2HXw6U",
        "outputId": "84b1bb9d-41a9-44fc-b42a-a90736be5aba"
      },
      "execution_count": null,
      "outputs": [
        {
          "output_type": "stream",
          "name": "stdout",
          "text": [
            "Welcome 2025\n"
          ]
        }
      ]
    },
    {
      "cell_type": "code",
      "source": [
        "\"2025\""
      ],
      "metadata": {
        "colab": {
          "base_uri": "https://localhost:8080/",
          "height": 35
        },
        "id": "6YE1wvRyYr4s",
        "outputId": "a0590eaa-86e0-4c00-dcc8-54a1a40f4961"
      },
      "execution_count": null,
      "outputs": [
        {
          "output_type": "execute_result",
          "data": {
            "text/plain": [
              "'2025'"
            ],
            "application/vnd.google.colaboratory.intrinsic+json": {
              "type": "string"
            }
          },
          "metadata": {},
          "execution_count": 87
        }
      ]
    },
    {
      "cell_type": "code",
      "source": [
        "2025"
      ],
      "metadata": {
        "colab": {
          "base_uri": "https://localhost:8080/"
        },
        "id": "elV6YsVaYv9T",
        "outputId": "cae34a31-b12d-467f-96a2-a73f7c0792e5"
      },
      "execution_count": null,
      "outputs": [
        {
          "output_type": "execute_result",
          "data": {
            "text/plain": [
              "2025"
            ]
          },
          "metadata": {},
          "execution_count": 88
        }
      ]
    },
    {
      "cell_type": "code",
      "source": [
        "year = 2026"
      ],
      "metadata": {
        "id": "DPAKWX1jYw2k"
      },
      "execution_count": null,
      "outputs": []
    },
    {
      "cell_type": "code",
      "source": [
        "print(year)"
      ],
      "metadata": {
        "colab": {
          "base_uri": "https://localhost:8080/"
        },
        "id": "DUL-IlOrZUpI",
        "outputId": "465fbe1c-1056-4313-90fd-86b5866ef98f"
      },
      "execution_count": null,
      "outputs": [
        {
          "output_type": "stream",
          "name": "stdout",
          "text": [
            "2026\n"
          ]
        }
      ]
    },
    {
      "cell_type": "code",
      "source": [
        "year = year-6"
      ],
      "metadata": {
        "id": "doz9JlNtZbgH"
      },
      "execution_count": null,
      "outputs": []
    },
    {
      "cell_type": "code",
      "source": [
        "type(year)"
      ],
      "metadata": {
        "colab": {
          "base_uri": "https://localhost:8080/"
        },
        "id": "jaIsT3ajaUZP",
        "outputId": "8e8854ed-c2b2-452a-ea3c-2f6cdce2db31"
      },
      "execution_count": null,
      "outputs": [
        {
          "output_type": "execute_result",
          "data": {
            "text/plain": [
              "int"
            ]
          },
          "metadata": {},
          "execution_count": 92
        }
      ]
    },
    {
      "cell_type": "markdown",
      "source": [
        "# Data Types in Python\n",
        "## Numeric Types\n",
        "\n",
        "1.   Integer\n",
        "2.   Floating Point\n",
        "3.   Complex\n",
        "\n",
        "## Text Type\n",
        "1. String\n",
        "\n",
        "## Sequence Type\n",
        "1. List\n",
        "2. Tuple\n",
        "3. Range\n",
        "\n",
        "## Mapping Type\n",
        "1. Dictionary\n",
        "\n",
        "## Set\n",
        "## Boolean\n"
      ],
      "metadata": {
        "id": "EhFUvgs7boMu"
      }
    },
    {
      "cell_type": "code",
      "source": [
        "print(3+5j)"
      ],
      "metadata": {
        "colab": {
          "base_uri": "https://localhost:8080/"
        },
        "id": "V_zIUeNPa_Kj",
        "outputId": "f219a706-4d9f-4fc6-f5ca-fa078e24fba7"
      },
      "execution_count": null,
      "outputs": [
        {
          "output_type": "stream",
          "name": "stdout",
          "text": [
            "(3+5j)\n"
          ]
        }
      ]
    },
    {
      "cell_type": "code",
      "source": [
        "x = 3+5j\n",
        "print(x)\n",
        "print(type(x))"
      ],
      "metadata": {
        "colab": {
          "base_uri": "https://localhost:8080/"
        },
        "id": "D3MwVKUjcOw_",
        "outputId": "8a715dc4-6803-4b87-92ee-0025157b662a"
      },
      "execution_count": null,
      "outputs": [
        {
          "output_type": "stream",
          "name": "stdout",
          "text": [
            "(3+5j)\n",
            "<class 'complex'>\n"
          ]
        }
      ]
    },
    {
      "cell_type": "code",
      "source": [
        "type(\"J\")"
      ],
      "metadata": {
        "colab": {
          "base_uri": "https://localhost:8080/"
        },
        "id": "GzQccD6iccRf",
        "outputId": "8e748d6b-7fdf-4a92-ae48-a2adeda0f4ee"
      },
      "execution_count": null,
      "outputs": [
        {
          "output_type": "execute_result",
          "data": {
            "text/plain": [
              "str"
            ]
          },
          "metadata": {},
          "execution_count": 95
        }
      ]
    },
    {
      "cell_type": "code",
      "source": [
        "year = \"2025\"\n",
        "len(year)"
      ],
      "metadata": {
        "colab": {
          "base_uri": "https://localhost:8080/"
        },
        "id": "lP-yrXIUdOro",
        "outputId": "4d70e40f-8d4b-4a9e-e342-ce0617be3bf4"
      },
      "execution_count": null,
      "outputs": [
        {
          "output_type": "execute_result",
          "data": {
            "text/plain": [
              "4"
            ]
          },
          "metadata": {},
          "execution_count": 96
        }
      ]
    },
    {
      "cell_type": "code",
      "source": [
        "amino_acids = \"AGCT\""
      ],
      "metadata": {
        "id": "1B12RsBdddwv"
      },
      "execution_count": null,
      "outputs": []
    },
    {
      "cell_type": "markdown",
      "source": [
        "\n",
        "\n",
        "1.   T\n",
        "2.   G\n",
        "3.   A\n",
        "4.   C\n",
        "5.   AG\n",
        "6.   CT\n",
        "7.   GC\n",
        "8.   TA\n",
        "\n"
      ],
      "metadata": {
        "id": "vT9z_wINfX4w"
      }
    },
    {
      "cell_type": "code",
      "source": [
        "print(amino_acids[-1])\n",
        "print(amino_acids[1])\n",
        "print(amino_acids[3]+amino_acids[0])"
      ],
      "metadata": {
        "colab": {
          "base_uri": "https://localhost:8080/"
        },
        "id": "fXT6ul2Lf122",
        "outputId": "6b906e28-39d1-47a5-d3fb-20116dc60781"
      },
      "execution_count": null,
      "outputs": [
        {
          "output_type": "stream",
          "name": "stdout",
          "text": [
            "T\n",
            "G\n",
            "TA\n"
          ]
        }
      ]
    },
    {
      "cell_type": "code",
      "source": [
        "message = \"Welcome to \"\n",
        "year = \"2025\"\n",
        "print(message+year)"
      ],
      "metadata": {
        "colab": {
          "base_uri": "https://localhost:8080/"
        },
        "id": "HVx6HWtejO2e",
        "outputId": "4abe6519-85f0-4294-dc0a-003fa203d87d"
      },
      "execution_count": null,
      "outputs": [
        {
          "output_type": "stream",
          "name": "stdout",
          "text": [
            "Welcome to 2025\n"
          ]
        }
      ]
    },
    {
      "cell_type": "code",
      "source": [
        "print(year[2])\n",
        "print(year[-1])\n",
        "print(message[:7])\n",
        "print(message[8:])"
      ],
      "metadata": {
        "colab": {
          "base_uri": "https://localhost:8080/"
        },
        "id": "Q8Kj9sFcj9Iv",
        "outputId": "202e22a1-13ad-4be5-bcb4-09940ab19c74"
      },
      "execution_count": null,
      "outputs": [
        {
          "output_type": "stream",
          "name": "stdout",
          "text": [
            "2\n",
            "5\n",
            "Welcome\n",
            "to \n"
          ]
        }
      ]
    },
    {
      "cell_type": "code",
      "source": [
        "grocery = [\"Apple\", 10, \"Orange\", 20]"
      ],
      "metadata": {
        "id": "pVGDUiq4lW7j"
      },
      "execution_count": null,
      "outputs": []
    },
    {
      "cell_type": "code",
      "source": [
        "print(grocery)"
      ],
      "metadata": {
        "colab": {
          "base_uri": "https://localhost:8080/"
        },
        "id": "2dmksx-23TBA",
        "outputId": "d0133069-881a-4e7d-f8cf-46fda2c55f6b"
      },
      "execution_count": null,
      "outputs": [
        {
          "output_type": "stream",
          "name": "stdout",
          "text": [
            "['Apple', 10, 'Orange', 20]\n"
          ]
        }
      ]
    },
    {
      "cell_type": "code",
      "source": [
        "grocery[1] = 30"
      ],
      "metadata": {
        "id": "CRlZYvFe7UN9"
      },
      "execution_count": null,
      "outputs": []
    },
    {
      "cell_type": "code",
      "source": [
        "print(grocery)"
      ],
      "metadata": {
        "colab": {
          "base_uri": "https://localhost:8080/"
        },
        "id": "o0pQw0107YLU",
        "outputId": "c0c22657-3aa7-4abf-fc4c-3207ac267aed"
      },
      "execution_count": null,
      "outputs": [
        {
          "output_type": "stream",
          "name": "stdout",
          "text": [
            "['Apple', 30, 'Orange', 20]\n"
          ]
        }
      ]
    },
    {
      "cell_type": "code",
      "source": [
        "print(grocery[0])"
      ],
      "metadata": {
        "colab": {
          "base_uri": "https://localhost:8080/"
        },
        "id": "mziNqvF_3bHP",
        "outputId": "1575eebd-9908-44fa-fae9-b7e185633dbe"
      },
      "execution_count": null,
      "outputs": [
        {
          "output_type": "stream",
          "name": "stdout",
          "text": [
            "Apple\n"
          ]
        }
      ]
    },
    {
      "cell_type": "code",
      "source": [
        "len(grocery)"
      ],
      "metadata": {
        "colab": {
          "base_uri": "https://localhost:8080/"
        },
        "id": "fq2i43o-3glO",
        "outputId": "05c32ff3-8892-4ded-9e7c-3ae9ea538443"
      },
      "execution_count": null,
      "outputs": [
        {
          "output_type": "execute_result",
          "data": {
            "text/plain": [
              "4"
            ]
          },
          "metadata": {},
          "execution_count": 105
        }
      ]
    },
    {
      "cell_type": "code",
      "source": [
        "print(grocery[-1])"
      ],
      "metadata": {
        "colab": {
          "base_uri": "https://localhost:8080/"
        },
        "id": "6oYWJRR43nwn",
        "outputId": "4f6439ca-d8c0-47f2-ee2d-8db1f97bbd87"
      },
      "execution_count": null,
      "outputs": [
        {
          "output_type": "stream",
          "name": "stdout",
          "text": [
            "[1, 2, 3]\n"
          ]
        }
      ]
    },
    {
      "cell_type": "code",
      "source": [
        "digits = (0,1,2,3,4,5,6,7,8,9)"
      ],
      "metadata": {
        "id": "lMJPf69t4x3Z"
      },
      "execution_count": null,
      "outputs": []
    },
    {
      "cell_type": "code",
      "source": [
        "print(digits)"
      ],
      "metadata": {
        "colab": {
          "base_uri": "https://localhost:8080/"
        },
        "id": "14lBmxCL5xo2",
        "outputId": "1a7e8523-5525-420d-c0af-adb165b23dc8"
      },
      "execution_count": null,
      "outputs": [
        {
          "output_type": "stream",
          "name": "stdout",
          "text": [
            "(0, 1, 2, 3, 4, 5, 6, 7, 8, 9)\n"
          ]
        }
      ]
    },
    {
      "cell_type": "code",
      "source": [
        "print(type(digits))"
      ],
      "metadata": {
        "colab": {
          "base_uri": "https://localhost:8080/"
        },
        "id": "H6LEkwl85zrA",
        "outputId": "d3c28005-3b48-4469-95a8-6fe50a361afa"
      },
      "execution_count": null,
      "outputs": [
        {
          "output_type": "stream",
          "name": "stdout",
          "text": [
            "<class 'tuple'>\n"
          ]
        }
      ]
    },
    {
      "cell_type": "code",
      "source": [
        "print(type(grocery))"
      ],
      "metadata": {
        "colab": {
          "base_uri": "https://localhost:8080/"
        },
        "id": "PzxdNSxP52f1",
        "outputId": "ad6966d1-0300-4f75-dfcc-d12a44816bdb"
      },
      "execution_count": null,
      "outputs": [
        {
          "output_type": "stream",
          "name": "stdout",
          "text": [
            "<class 'list'>\n"
          ]
        }
      ]
    },
    {
      "cell_type": "code",
      "source": [
        "digits[2]"
      ],
      "metadata": {
        "colab": {
          "base_uri": "https://localhost:8080/"
        },
        "id": "UPw-AqrI55wN",
        "outputId": "ecf8ed76-1835-499f-930f-8f424b5d63dd"
      },
      "execution_count": null,
      "outputs": [
        {
          "output_type": "execute_result",
          "data": {
            "text/plain": [
              "2"
            ]
          },
          "metadata": {},
          "execution_count": 113
        }
      ]
    },
    {
      "cell_type": "code",
      "source": [
        "sample = (1,2,3, \"hello\")"
      ],
      "metadata": {
        "id": "wu-1hsrR5-qd"
      },
      "execution_count": null,
      "outputs": []
    },
    {
      "cell_type": "code",
      "source": [
        "sample"
      ],
      "metadata": {
        "colab": {
          "base_uri": "https://localhost:8080/"
        },
        "id": "4OyEsC1E7Glc",
        "outputId": "8cc2064a-2a60-4d31-a4c1-800e4ab6a743"
      },
      "execution_count": null,
      "outputs": [
        {
          "output_type": "execute_result",
          "data": {
            "text/plain": [
              "(1, 2, 3, 'hello')"
            ]
          },
          "metadata": {},
          "execution_count": 116
        }
      ]
    },
    {
      "cell_type": "code",
      "source": [
        "sample[0] = \"hi\""
      ],
      "metadata": {
        "colab": {
          "base_uri": "https://localhost:8080/",
          "height": 141
        },
        "id": "bC-U4WHC7IXu",
        "outputId": "6170a1d7-7a9f-4638-8ea3-374d746c5aba"
      },
      "execution_count": null,
      "outputs": [
        {
          "output_type": "error",
          "ename": "TypeError",
          "evalue": "'tuple' object does not support item assignment",
          "traceback": [
            "\u001b[0;31m---------------------------------------------------------------------------\u001b[0m",
            "\u001b[0;31mTypeError\u001b[0m                                 Traceback (most recent call last)",
            "\u001b[0;32m<ipython-input-126-e47def932fc3>\u001b[0m in \u001b[0;36m<cell line: 0>\u001b[0;34m()\u001b[0m\n\u001b[0;32m----> 1\u001b[0;31m \u001b[0msample\u001b[0m\u001b[0;34m[\u001b[0m\u001b[0;36m0\u001b[0m\u001b[0;34m]\u001b[0m \u001b[0;34m=\u001b[0m \u001b[0;34m\"hi\"\u001b[0m\u001b[0;34m\u001b[0m\u001b[0;34m\u001b[0m\u001b[0m\n\u001b[0m",
            "\u001b[0;31mTypeError\u001b[0m: 'tuple' object does not support item assignment"
          ]
        }
      ]
    },
    {
      "cell_type": "code",
      "source": [
        "list(range(0,5))"
      ],
      "metadata": {
        "colab": {
          "base_uri": "https://localhost:8080/"
        },
        "id": "UUamTXG27ij8",
        "outputId": "f3f4ae40-53af-4186-bbcf-47298b3c45fd"
      },
      "execution_count": null,
      "outputs": [
        {
          "output_type": "execute_result",
          "data": {
            "text/plain": [
              "[0, 1, 2, 3, 4]"
            ]
          },
          "metadata": {},
          "execution_count": 132
        }
      ]
    },
    {
      "cell_type": "code",
      "source": [
        "list(range(1,5))"
      ],
      "metadata": {
        "colab": {
          "base_uri": "https://localhost:8080/"
        },
        "id": "J4V1akX_88fd",
        "outputId": "08257dfe-1fee-404b-a28c-5a78c67d9744"
      },
      "execution_count": null,
      "outputs": [
        {
          "output_type": "execute_result",
          "data": {
            "text/plain": [
              "[1, 2, 3, 4]"
            ]
          },
          "metadata": {},
          "execution_count": 133
        }
      ]
    },
    {
      "cell_type": "code",
      "source": [
        "start = 1\n",
        "stop = 10\n",
        "skip = 2\n",
        "list(range(start,stop,skip))"
      ],
      "metadata": {
        "colab": {
          "base_uri": "https://localhost:8080/"
        },
        "id": "LyFZqRIc9wXa",
        "outputId": "cc0abcca-f139-4c3a-c361-9dfde4d8ce64"
      },
      "execution_count": null,
      "outputs": [
        {
          "output_type": "execute_result",
          "data": {
            "text/plain": [
              "[1, 3, 5, 7, 9]"
            ]
          },
          "metadata": {},
          "execution_count": 138
        }
      ]
    },
    {
      "cell_type": "code",
      "source": [
        "start = 10\n",
        "stop = 1\n",
        "skip = -1\n",
        "list(range(start, stop, skip))"
      ],
      "metadata": {
        "colab": {
          "base_uri": "https://localhost:8080/"
        },
        "id": "Hw_mk8vk90qh",
        "outputId": "33da8c22-9877-4180-eb09-c6bd07b6021b"
      },
      "execution_count": null,
      "outputs": [
        {
          "output_type": "execute_result",
          "data": {
            "text/plain": [
              "[10, 9, 8, 7, 6, 5, 4, 3, 2]"
            ]
          },
          "metadata": {},
          "execution_count": 141
        }
      ]
    },
    {
      "cell_type": "code",
      "source": [
        "phone_book = {\"John\": 938477566,\n",
        "              \"Jack\": 938377264,\n",
        "              \"Jill\": 947662781}\n",
        "\n",
        "day_of_week = {\"Mon\":1, \"Tue\":2, \"Wed\":3, \"Thu\":4, \"Fri\":5}"
      ],
      "metadata": {
        "id": "HfxieA1R-vBC"
      },
      "execution_count": null,
      "outputs": []
    },
    {
      "cell_type": "code",
      "source": [
        "phone_book[\"John\"]"
      ],
      "metadata": {
        "colab": {
          "base_uri": "https://localhost:8080/"
        },
        "id": "lcxphY5K_rU7",
        "outputId": "c932a014-52f7-4e9b-ebf4-43fc71aefa77"
      },
      "execution_count": null,
      "outputs": [
        {
          "output_type": "execute_result",
          "data": {
            "text/plain": [
              "938477566"
            ]
          },
          "metadata": {},
          "execution_count": 144
        }
      ]
    },
    {
      "cell_type": "code",
      "source": [
        "day_of_week[\"Tue\"]"
      ],
      "metadata": {
        "colab": {
          "base_uri": "https://localhost:8080/"
        },
        "id": "0mn3E4k-_0My",
        "outputId": "79e5617e-e8a8-4106-c3e3-681b5a9cdf0d"
      },
      "execution_count": null,
      "outputs": [
        {
          "output_type": "execute_result",
          "data": {
            "text/plain": [
              "2"
            ]
          },
          "metadata": {},
          "execution_count": 146
        }
      ]
    },
    {
      "cell_type": "code",
      "source": [
        "print(type(phone_book))"
      ],
      "metadata": {
        "colab": {
          "base_uri": "https://localhost:8080/"
        },
        "id": "mrHhDFQIAGuB",
        "outputId": "25d6372e-c99d-45db-c92e-dbdc2881a15b"
      },
      "execution_count": null,
      "outputs": [
        {
          "output_type": "stream",
          "name": "stdout",
          "text": [
            "<class 'dict'>\n"
          ]
        }
      ]
    },
    {
      "cell_type": "code",
      "source": [
        "import random\n",
        "week = [\"Sunday\", \"Monday\", \"Tuesday\"]\n",
        "random.choice(week)"
      ],
      "metadata": {
        "colab": {
          "base_uri": "https://localhost:8080/",
          "height": 35
        },
        "id": "i80-KVZQAoIQ",
        "outputId": "22142e4b-8c1c-4b4b-e667-a30a1a9dfbb4"
      },
      "execution_count": null,
      "outputs": [
        {
          "output_type": "execute_result",
          "data": {
            "text/plain": [
              "'Monday'"
            ],
            "application/vnd.google.colaboratory.intrinsic+json": {
              "type": "string"
            }
          },
          "metadata": {},
          "execution_count": 149
        }
      ]
    },
    {
      "cell_type": "code",
      "source": [
        "day = {\"Sunday\", \"Monday\", \"Tuesday\",\"Tuesday\"}\n",
        "print(type(day))"
      ],
      "metadata": {
        "colab": {
          "base_uri": "https://localhost:8080/"
        },
        "id": "1KzYe3QKCasU",
        "outputId": "4ac4885d-ef6f-43ec-9fd3-5ee80c033417"
      },
      "execution_count": null,
      "outputs": [
        {
          "output_type": "stream",
          "name": "stdout",
          "text": [
            "<class 'set'>\n"
          ]
        }
      ]
    },
    {
      "cell_type": "code",
      "source": [
        "print(day)"
      ],
      "metadata": {
        "colab": {
          "base_uri": "https://localhost:8080/"
        },
        "id": "g6N11LcoFI-u",
        "outputId": "58dcd15b-760e-4a82-c8af-b0344cbcfe3a"
      },
      "execution_count": null,
      "outputs": [
        {
          "output_type": "stream",
          "name": "stdout",
          "text": [
            "{'Tuesday', 'Monday', 'Sunday'}\n"
          ]
        }
      ]
    },
    {
      "cell_type": "code",
      "source": [
        "condition = False"
      ],
      "metadata": {
        "id": "S4f_QvrHFVXy"
      },
      "execution_count": null,
      "outputs": []
    },
    {
      "cell_type": "code",
      "source": [
        "type(condition)"
      ],
      "metadata": {
        "colab": {
          "base_uri": "https://localhost:8080/"
        },
        "id": "L9yw9JE0HsEw",
        "outputId": "2edc5bf1-2ddb-4aa6-ae0a-bfb538b05dca"
      },
      "execution_count": null,
      "outputs": [
        {
          "output_type": "execute_result",
          "data": {
            "text/plain": [
              "bool"
            ]
          },
          "metadata": {},
          "execution_count": 160
        }
      ]
    },
    {
      "cell_type": "code",
      "source": [
        "print(condition)"
      ],
      "metadata": {
        "colab": {
          "base_uri": "https://localhost:8080/"
        },
        "id": "cW6J7yGHHuZ_",
        "outputId": "3f6892a9-1f79-4455-a419-feffe073384b"
      },
      "execution_count": null,
      "outputs": [
        {
          "output_type": "stream",
          "name": "stdout",
          "text": [
            "False\n"
          ]
        }
      ]
    },
    {
      "cell_type": "code",
      "source": [
        "10<20"
      ],
      "metadata": {
        "colab": {
          "base_uri": "https://localhost:8080/"
        },
        "id": "7S_Qy9RkH0K6",
        "outputId": "6981b1bc-b0b7-4892-8103-f5a57dbbf95d"
      },
      "execution_count": null,
      "outputs": [
        {
          "output_type": "execute_result",
          "data": {
            "text/plain": [
              "True"
            ]
          },
          "metadata": {},
          "execution_count": 163
        }
      ]
    },
    {
      "cell_type": "code",
      "source": [
        "word1 = \"hello\"\n",
        "word2 = \"malayalam\"\n",
        "print(word1 == word1[::-1])\n",
        "print(word2 == word2[::-1])"
      ],
      "metadata": {
        "colab": {
          "base_uri": "https://localhost:8080/"
        },
        "id": "KdlB0grxH65f",
        "outputId": "0f4f1d19-fe94-4c26-d042-be88661f89fd"
      },
      "execution_count": null,
      "outputs": [
        {
          "output_type": "stream",
          "name": "stdout",
          "text": [
            "False\n",
            "True\n"
          ]
        }
      ]
    },
    {
      "cell_type": "markdown",
      "source": [
        "# Operators In Python\n",
        "\n",
        "\n",
        "1.   Arithmetic Operators (Add(+), Sub(-), Mul(*), Div(/), Mod(%), Floor Div(//), and Exp(**)\n",
        "2.   Assignment Operator (=)\n",
        "3.   Comparison Operators (>, <, >=, <=, ==, !=)\n",
        "4.   Logical Operators (AND, OR, NOT)\n",
        "5.   Membership Operators (IN)\n",
        "6.   Identity Operators\n",
        "\n"
      ],
      "metadata": {
        "id": "CwPTsGYRLJGC"
      }
    },
    {
      "cell_type": "code",
      "source": [
        "a = int(input(\"Enter first number \"))\n",
        "b = int(input(\"Enter second number \"))\n",
        "print(\"Sum of \", a, \"and\", b, \"is:\", a+b)"
      ],
      "metadata": {
        "colab": {
          "base_uri": "https://localhost:8080/"
        },
        "id": "31GL7IWOI3zM",
        "outputId": "2f7fb736-55b4-42d8-dc1b-562905ccca66"
      },
      "execution_count": null,
      "outputs": [
        {
          "output_type": "stream",
          "name": "stdout",
          "text": [
            "Enter first number 2\n",
            "Enter second number 3\n",
            "Sum of  2 and 3 is: 5\n"
          ]
        }
      ]
    },
    {
      "cell_type": "code",
      "source": [
        "print(len(\"hi\")<len(\"Hello\"))\n",
        "print(2 == len(\"Hi\"))\n",
        "print(\"Hello\" != len(\"Hello\"))"
      ],
      "metadata": {
        "colab": {
          "base_uri": "https://localhost:8080/"
        },
        "id": "19MBSTOtLnva",
        "outputId": "3d64d859-2207-49fb-ce3c-aaeb61090ad8"
      },
      "execution_count": null,
      "outputs": [
        {
          "output_type": "stream",
          "name": "stdout",
          "text": [
            "True\n",
            "True\n",
            "True\n"
          ]
        }
      ]
    },
    {
      "cell_type": "code",
      "source": [
        "day = \"Friday\"\n",
        "print(day == \"Sunday\" or day == \"Saturday\")"
      ],
      "metadata": {
        "colab": {
          "base_uri": "https://localhost:8080/"
        },
        "id": "M3iiGSOdScwh",
        "outputId": "6ac98030-4d2f-4250-d2af-69a103ca6a13"
      },
      "execution_count": null,
      "outputs": [
        {
          "output_type": "stream",
          "name": "stdout",
          "text": [
            "False\n"
          ]
        }
      ]
    },
    {
      "cell_type": "code",
      "source": [
        "3 in [1,2,4]"
      ],
      "metadata": {
        "colab": {
          "base_uri": "https://localhost:8080/"
        },
        "id": "b4K4UZ3JTNho",
        "outputId": "d6dfd478-b038-4723-82e3-5511c9c8fb1f"
      },
      "execution_count": null,
      "outputs": [
        {
          "output_type": "execute_result",
          "data": {
            "text/plain": [
              "False"
            ]
          },
          "metadata": {},
          "execution_count": 202
        }
      ]
    },
    {
      "cell_type": "code",
      "source": [
        "'h' in \"hello\""
      ],
      "metadata": {
        "colab": {
          "base_uri": "https://localhost:8080/"
        },
        "id": "uvkgRtcBVCY0",
        "outputId": "314f9423-7a93-4ad4-840c-0574205e2b6a"
      },
      "execution_count": null,
      "outputs": [
        {
          "output_type": "execute_result",
          "data": {
            "text/plain": [
              "True"
            ]
          },
          "metadata": {},
          "execution_count": 203
        }
      ]
    },
    {
      "cell_type": "code",
      "source": [],
      "metadata": {
        "id": "XnRtj5D6VOkn"
      },
      "execution_count": null,
      "outputs": []
    }
  ]
}